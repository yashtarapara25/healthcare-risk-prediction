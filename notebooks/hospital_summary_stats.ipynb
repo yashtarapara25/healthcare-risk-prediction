{
 "cells": [
  {
   "cell_type": "code",
   "execution_count": 1,
   "id": "8cd1d048-1bac-4998-8229-5db19db7f051",
   "metadata": {},
   "outputs": [],
   "source": [
    "#import library\n",
    "import pandas as pd\n",
    "import numpy as np\n",
    "import matplotlib.pyplot as plt\n",
    "import seaborn as sns"
   ]
  },
  {
   "cell_type": "code",
   "execution_count": 3,
   "id": "9c3b0c2d-3c5c-40a5-b42a-bb1ce7aa20ac",
   "metadata": {},
   "outputs": [],
   "source": [
    "#load data"
   ]
  },
  {
   "cell_type": "code",
   "execution_count": 5,
   "id": "84032c7a-aa5d-4c2c-abbb-c7ea2b61e8ba",
   "metadata": {},
   "outputs": [],
   "source": [
    "hospital_df = pd.read_csv('hospital_kpi_sample.csv')"
   ]
  },
  {
   "cell_type": "code",
   "execution_count": 9,
   "id": "33c4509e-8167-4bbe-a85d-6d523c25c5f7",
   "metadata": {},
   "outputs": [
    {
     "data": {
      "text/html": [
       "<div>\n",
       "<style scoped>\n",
       "    .dataframe tbody tr th:only-of-type {\n",
       "        vertical-align: middle;\n",
       "    }\n",
       "\n",
       "    .dataframe tbody tr th {\n",
       "        vertical-align: top;\n",
       "    }\n",
       "\n",
       "    .dataframe thead th {\n",
       "        text-align: right;\n",
       "    }\n",
       "</style>\n",
       "<table border=\"1\" class=\"dataframe\">\n",
       "  <thead>\n",
       "    <tr style=\"text-align: right;\">\n",
       "      <th></th>\n",
       "      <th>HospitalID</th>\n",
       "      <th>HospitalName</th>\n",
       "      <th>AvgWaitTimeMins</th>\n",
       "      <th>ReadmissionRate</th>\n",
       "      <th>TreatmentSuccessRate</th>\n",
       "      <th>BedOccupancyRate</th>\n",
       "      <th>AvgStayDays</th>\n",
       "      <th>StaffUtilizationRate</th>\n",
       "    </tr>\n",
       "  </thead>\n",
       "  <tbody>\n",
       "    <tr>\n",
       "      <th>0</th>\n",
       "      <td>1066</td>\n",
       "      <td>CityCare</td>\n",
       "      <td>15.4</td>\n",
       "      <td>0.11</td>\n",
       "      <td>0.92</td>\n",
       "      <td>0.69</td>\n",
       "      <td>2.8</td>\n",
       "      <td>0.65</td>\n",
       "    </tr>\n",
       "    <tr>\n",
       "      <th>1</th>\n",
       "      <td>1092</td>\n",
       "      <td>LifeLine</td>\n",
       "      <td>34.7</td>\n",
       "      <td>0.08</td>\n",
       "      <td>0.80</td>\n",
       "      <td>0.83</td>\n",
       "      <td>2.8</td>\n",
       "      <td>0.74</td>\n",
       "    </tr>\n",
       "    <tr>\n",
       "      <th>2</th>\n",
       "      <td>1098</td>\n",
       "      <td>CurePoint</td>\n",
       "      <td>61.1</td>\n",
       "      <td>0.11</td>\n",
       "      <td>0.80</td>\n",
       "      <td>0.73</td>\n",
       "      <td>3.6</td>\n",
       "      <td>0.91</td>\n",
       "    </tr>\n",
       "    <tr>\n",
       "      <th>3</th>\n",
       "      <td>1017</td>\n",
       "      <td>HealthFirst</td>\n",
       "      <td>66.7</td>\n",
       "      <td>0.08</td>\n",
       "      <td>0.97</td>\n",
       "      <td>0.71</td>\n",
       "      <td>4.1</td>\n",
       "      <td>0.91</td>\n",
       "    </tr>\n",
       "    <tr>\n",
       "      <th>4</th>\n",
       "      <td>1083</td>\n",
       "      <td>LifeLine</td>\n",
       "      <td>38.8</td>\n",
       "      <td>0.20</td>\n",
       "      <td>0.74</td>\n",
       "      <td>0.95</td>\n",
       "      <td>3.6</td>\n",
       "      <td>0.75</td>\n",
       "    </tr>\n",
       "  </tbody>\n",
       "</table>\n",
       "</div>"
      ],
      "text/plain": [
       "   HospitalID HospitalName  AvgWaitTimeMins  ReadmissionRate  \\\n",
       "0        1066     CityCare             15.4             0.11   \n",
       "1        1092     LifeLine             34.7             0.08   \n",
       "2        1098    CurePoint             61.1             0.11   \n",
       "3        1017  HealthFirst             66.7             0.08   \n",
       "4        1083     LifeLine             38.8             0.20   \n",
       "\n",
       "   TreatmentSuccessRate  BedOccupancyRate  AvgStayDays  StaffUtilizationRate  \n",
       "0                  0.92              0.69          2.8                  0.65  \n",
       "1                  0.80              0.83          2.8                  0.74  \n",
       "2                  0.80              0.73          3.6                  0.91  \n",
       "3                  0.97              0.71          4.1                  0.91  \n",
       "4                  0.74              0.95          3.6                  0.75  "
      ]
     },
     "execution_count": 9,
     "metadata": {},
     "output_type": "execute_result"
    }
   ],
   "source": [
    "hospital_df.head()"
   ]
  },
  {
   "cell_type": "code",
   "execution_count": 13,
   "id": "b27de47d-c5f9-4299-898c-d3cd5fb06bde",
   "metadata": {},
   "outputs": [
    {
     "data": {
      "text/html": [
       "<div>\n",
       "<style scoped>\n",
       "    .dataframe tbody tr th:only-of-type {\n",
       "        vertical-align: middle;\n",
       "    }\n",
       "\n",
       "    .dataframe tbody tr th {\n",
       "        vertical-align: top;\n",
       "    }\n",
       "\n",
       "    .dataframe thead th {\n",
       "        text-align: right;\n",
       "    }\n",
       "</style>\n",
       "<table border=\"1\" class=\"dataframe\">\n",
       "  <thead>\n",
       "    <tr style=\"text-align: right;\">\n",
       "      <th></th>\n",
       "      <th>HospitalID</th>\n",
       "      <th>HospitalName</th>\n",
       "      <th>AvgWaitTimeMins</th>\n",
       "      <th>ReadmissionRate</th>\n",
       "      <th>TreatmentSuccessRate</th>\n",
       "      <th>BedOccupancyRate</th>\n",
       "      <th>AvgStayDays</th>\n",
       "      <th>StaffUtilizationRate</th>\n",
       "    </tr>\n",
       "  </thead>\n",
       "  <tbody>\n",
       "    <tr>\n",
       "      <th>495</th>\n",
       "      <td>1024</td>\n",
       "      <td>CityCare</td>\n",
       "      <td>44.7</td>\n",
       "      <td>0.21</td>\n",
       "      <td>0.91</td>\n",
       "      <td>0.90</td>\n",
       "      <td>6.2</td>\n",
       "      <td>0.68</td>\n",
       "    </tr>\n",
       "    <tr>\n",
       "      <th>496</th>\n",
       "      <td>1038</td>\n",
       "      <td>LifeLine</td>\n",
       "      <td>20.8</td>\n",
       "      <td>0.17</td>\n",
       "      <td>0.75</td>\n",
       "      <td>0.58</td>\n",
       "      <td>3.9</td>\n",
       "      <td>0.81</td>\n",
       "    </tr>\n",
       "    <tr>\n",
       "      <th>497</th>\n",
       "      <td>1079</td>\n",
       "      <td>HealthFirst</td>\n",
       "      <td>60.2</td>\n",
       "      <td>0.24</td>\n",
       "      <td>0.79</td>\n",
       "      <td>1.00</td>\n",
       "      <td>5.3</td>\n",
       "      <td>0.80</td>\n",
       "    </tr>\n",
       "    <tr>\n",
       "      <th>498</th>\n",
       "      <td>1074</td>\n",
       "      <td>MediPlus</td>\n",
       "      <td>60.1</td>\n",
       "      <td>0.25</td>\n",
       "      <td>0.81</td>\n",
       "      <td>0.77</td>\n",
       "      <td>3.8</td>\n",
       "      <td>0.72</td>\n",
       "    </tr>\n",
       "    <tr>\n",
       "      <th>499</th>\n",
       "      <td>1024</td>\n",
       "      <td>CityCare</td>\n",
       "      <td>64.3</td>\n",
       "      <td>0.13</td>\n",
       "      <td>0.81</td>\n",
       "      <td>0.87</td>\n",
       "      <td>8.7</td>\n",
       "      <td>0.82</td>\n",
       "    </tr>\n",
       "  </tbody>\n",
       "</table>\n",
       "</div>"
      ],
      "text/plain": [
       "     HospitalID HospitalName  AvgWaitTimeMins  ReadmissionRate  \\\n",
       "495        1024     CityCare             44.7             0.21   \n",
       "496        1038     LifeLine             20.8             0.17   \n",
       "497        1079  HealthFirst             60.2             0.24   \n",
       "498        1074     MediPlus             60.1             0.25   \n",
       "499        1024     CityCare             64.3             0.13   \n",
       "\n",
       "     TreatmentSuccessRate  BedOccupancyRate  AvgStayDays  StaffUtilizationRate  \n",
       "495                  0.91              0.90          6.2                  0.68  \n",
       "496                  0.75              0.58          3.9                  0.81  \n",
       "497                  0.79              1.00          5.3                  0.80  \n",
       "498                  0.81              0.77          3.8                  0.72  \n",
       "499                  0.81              0.87          8.7                  0.82  "
      ]
     },
     "execution_count": 13,
     "metadata": {},
     "output_type": "execute_result"
    }
   ],
   "source": [
    "hospital_df.tail()"
   ]
  },
  {
   "cell_type": "code",
   "execution_count": 21,
   "id": "6c8bf756-8f6a-4c4e-b64a-cd13c85c0659",
   "metadata": {},
   "outputs": [],
   "source": [
    "#Basic Data Inspection"
   ]
  },
  {
   "cell_type": "code",
   "execution_count": 33,
   "id": "b9dc45a4-67f2-4b57-8eff-b4a60d1a497a",
   "metadata": {},
   "outputs": [
    {
     "name": "stdout",
     "output_type": "stream",
     "text": [
      "<class 'pandas.core.frame.DataFrame'>\n",
      "RangeIndex: 500 entries, 0 to 499\n",
      "Data columns (total 8 columns):\n",
      " #   Column                Non-Null Count  Dtype  \n",
      "---  ------                --------------  -----  \n",
      " 0   HospitalID            500 non-null    int64  \n",
      " 1   HospitalName          500 non-null    object \n",
      " 2   AvgWaitTimeMins       500 non-null    float64\n",
      " 3   ReadmissionRate       500 non-null    float64\n",
      " 4   TreatmentSuccessRate  500 non-null    float64\n",
      " 5   BedOccupancyRate      500 non-null    float64\n",
      " 6   AvgStayDays           500 non-null    float64\n",
      " 7   StaffUtilizationRate  500 non-null    float64\n",
      "dtypes: float64(6), int64(1), object(1)\n",
      "memory usage: 31.4+ KB\n",
      "shpe : (500, 8)\n",
      "Missing values \n",
      ": HospitalID              0\n",
      "HospitalName            0\n",
      "AvgWaitTimeMins         0\n",
      "ReadmissionRate         0\n",
      "TreatmentSuccessRate    0\n",
      "BedOccupancyRate        0\n",
      "AvgStayDays             0\n",
      "StaffUtilizationRate    0\n",
      "dtype: int64\n"
     ]
    }
   ],
   "source": [
    "hospital_df.info()\n",
    "\n",
    "#shape\n",
    "print(f\"shpe : {hospital_df.shape}\")\n",
    "print(\"Missing values \\n:\",hospital_df.isnull().sum())"
   ]
  },
  {
   "cell_type": "code",
   "execution_count": 45,
   "id": "4c25c1e0-6c19-4c50-a417-02366867b4b4",
   "metadata": {},
   "outputs": [
    {
     "data": {
      "text/html": [
       "<div>\n",
       "<style scoped>\n",
       "    .dataframe tbody tr th:only-of-type {\n",
       "        vertical-align: middle;\n",
       "    }\n",
       "\n",
       "    .dataframe tbody tr th {\n",
       "        vertical-align: top;\n",
       "    }\n",
       "\n",
       "    .dataframe thead th {\n",
       "        text-align: right;\n",
       "    }\n",
       "</style>\n",
       "<table border=\"1\" class=\"dataframe\">\n",
       "  <thead>\n",
       "    <tr style=\"text-align: right;\">\n",
       "      <th></th>\n",
       "      <th>count</th>\n",
       "      <th>mean</th>\n",
       "      <th>std</th>\n",
       "      <th>min</th>\n",
       "      <th>25%</th>\n",
       "      <th>50%</th>\n",
       "      <th>75%</th>\n",
       "      <th>max</th>\n",
       "    </tr>\n",
       "  </thead>\n",
       "  <tbody>\n",
       "    <tr>\n",
       "      <th>HospitalID</th>\n",
       "      <td>500.0</td>\n",
       "      <td>1051.15200</td>\n",
       "      <td>30.234967</td>\n",
       "      <td>1000.00</td>\n",
       "      <td>1025.000</td>\n",
       "      <td>1052.00</td>\n",
       "      <td>1078.000</td>\n",
       "      <td>1099.00</td>\n",
       "    </tr>\n",
       "    <tr>\n",
       "      <th>AvgWaitTimeMins</th>\n",
       "      <td>500.0</td>\n",
       "      <td>44.72480</td>\n",
       "      <td>15.723575</td>\n",
       "      <td>-3.80</td>\n",
       "      <td>34.225</td>\n",
       "      <td>44.60</td>\n",
       "      <td>55.900</td>\n",
       "      <td>85.90</td>\n",
       "    </tr>\n",
       "    <tr>\n",
       "      <th>ReadmissionRate</th>\n",
       "      <td>500.0</td>\n",
       "      <td>0.17570</td>\n",
       "      <td>0.074250</td>\n",
       "      <td>0.05</td>\n",
       "      <td>0.110</td>\n",
       "      <td>0.17</td>\n",
       "      <td>0.240</td>\n",
       "      <td>0.30</td>\n",
       "    </tr>\n",
       "    <tr>\n",
       "      <th>TreatmentSuccessRate</th>\n",
       "      <td>500.0</td>\n",
       "      <td>0.84232</td>\n",
       "      <td>0.081276</td>\n",
       "      <td>0.70</td>\n",
       "      <td>0.770</td>\n",
       "      <td>0.84</td>\n",
       "      <td>0.910</td>\n",
       "      <td>0.98</td>\n",
       "    </tr>\n",
       "    <tr>\n",
       "      <th>BedOccupancyRate</th>\n",
       "      <td>500.0</td>\n",
       "      <td>0.75102</td>\n",
       "      <td>0.144987</td>\n",
       "      <td>0.50</td>\n",
       "      <td>0.630</td>\n",
       "      <td>0.75</td>\n",
       "      <td>0.870</td>\n",
       "      <td>1.00</td>\n",
       "    </tr>\n",
       "    <tr>\n",
       "      <th>AvgStayDays</th>\n",
       "      <td>500.0</td>\n",
       "      <td>4.47940</td>\n",
       "      <td>1.503808</td>\n",
       "      <td>-1.00</td>\n",
       "      <td>3.400</td>\n",
       "      <td>4.50</td>\n",
       "      <td>5.425</td>\n",
       "      <td>8.70</td>\n",
       "    </tr>\n",
       "    <tr>\n",
       "      <th>StaffUtilizationRate</th>\n",
       "      <td>500.0</td>\n",
       "      <td>0.78162</td>\n",
       "      <td>0.100378</td>\n",
       "      <td>0.60</td>\n",
       "      <td>0.700</td>\n",
       "      <td>0.78</td>\n",
       "      <td>0.870</td>\n",
       "      <td>0.95</td>\n",
       "    </tr>\n",
       "  </tbody>\n",
       "</table>\n",
       "</div>"
      ],
      "text/plain": [
       "                      count        mean        std      min       25%  \\\n",
       "HospitalID            500.0  1051.15200  30.234967  1000.00  1025.000   \n",
       "AvgWaitTimeMins       500.0    44.72480  15.723575    -3.80    34.225   \n",
       "ReadmissionRate       500.0     0.17570   0.074250     0.05     0.110   \n",
       "TreatmentSuccessRate  500.0     0.84232   0.081276     0.70     0.770   \n",
       "BedOccupancyRate      500.0     0.75102   0.144987     0.50     0.630   \n",
       "AvgStayDays           500.0     4.47940   1.503808    -1.00     3.400   \n",
       "StaffUtilizationRate  500.0     0.78162   0.100378     0.60     0.700   \n",
       "\n",
       "                          50%       75%      max  \n",
       "HospitalID            1052.00  1078.000  1099.00  \n",
       "AvgWaitTimeMins         44.60    55.900    85.90  \n",
       "ReadmissionRate          0.17     0.240     0.30  \n",
       "TreatmentSuccessRate     0.84     0.910     0.98  \n",
       "BedOccupancyRate         0.75     0.870     1.00  \n",
       "AvgStayDays              4.50     5.425     8.70  \n",
       "StaffUtilizationRate     0.78     0.870     0.95  "
      ]
     },
     "execution_count": 45,
     "metadata": {},
     "output_type": "execute_result"
    }
   ],
   "source": [
    "#describe \n",
    "hospital_df.describe().T"
   ]
  },
  {
   "cell_type": "code",
   "execution_count": 39,
   "id": "824b6298-22dd-466b-8e07-fd6299c05a19",
   "metadata": {},
   "outputs": [
    {
     "data": {
      "text/plain": [
       "HospitalName\n",
       "CurePoint      110\n",
       "CityCare       109\n",
       "LifeLine        99\n",
       "MediPlus        97\n",
       "HealthFirst     85\n",
       "Name: count, dtype: int64"
      ]
     },
     "execution_count": 39,
     "metadata": {},
     "output_type": "execute_result"
    }
   ],
   "source": [
    "#hospital count\n",
    "hospital_df['HospitalName'].value_counts()"
   ]
  },
  {
   "cell_type": "code",
   "execution_count": null,
   "id": "801eae75-ba7c-42dd-8491-a60df4eb35c9",
   "metadata": {},
   "outputs": [],
   "source": [
    "#Visualize Individual KPIs"
   ]
  },
  {
   "cell_type": "code",
   "execution_count": 47,
   "id": "4366171a-e7b1-494c-8704-1c7bc1c8af44",
   "metadata": {},
   "outputs": [
    {
     "data": {
      "image/png": "[encoded data removed]",
      "text/plain": [
       "<Figure size 1200x600 with 1 Axes>"
      ]
     },
     "metadata": {},
     "output_type": "display_data"
    }
   ],
   "source": [
    "#Average Wait Time per Hospital\n",
    "plt.figure(figsize=(12, 6))\n",
    "sns.boxplot(data=hospital_df, x='HospitalName', y='AvgWaitTimeMins')\n",
    "plt.title('Average Wait Time per Hospital')\n",
    "plt.show()"
   ]
  },
  {
   "cell_type": "code",
   "execution_count": 51,
   "id": "a590e52b-083a-4420-95be-80e65f21cf26",
   "metadata": {},
   "outputs": [
    {
     "data": {
      "image/png": "[encoded data removed]",
      "text/plain": [
       "<Figure size 640x480 with 1 Axes>"
      ]
     },
     "metadata": {},
     "output_type": "display_data"
    }
   ],
   "source": [
    "#Readmission Rate Distribution\n",
    "sns.histplot(hospital_df['ReadmissionRate'], kde=True, color='coral')\n",
    "plt.title('Distribution of Readmission Rates')\n",
    "plt.xlabel('Readmission Rate')\n",
    "plt.show()"
   ]
  },
  {
   "cell_type": "code",
   "execution_count": 55,
   "id": "8a6b7392-a813-4575-85d5-fd9ec70a023d",
   "metadata": {},
   "outputs": [],
   "source": [
    "#Correlation Heatmap "
   ]
  },
  {
   "cell_type": "code",
   "execution_count": 63,
   "id": "f3cf8498-f179-4d81-a10a-caedce75f48d",
   "metadata": {},
   "outputs": [
    {
     "data": {
      "image/png": "[encoded data removed]",
      "text/plain": [
       "<Figure size 1000x800 with 2 Axes>"
      ]
     },
     "metadata": {},
     "output_type": "display_data"
    }
   ],
   "source": [
    "plt.figure(figsize=(10, 8))\n",
    "sns.heatmap(metrics.corr(numeric_only=True), annot=True, cmap='coolwarm')\n",
    "plt.title('Correlation Between Hospital KPIs')\n",
    "plt.show()\n"
   ]
  },
  {
   "cell_type": "code",
   "execution_count": 67,
   "id": "acc7b919-dc22-4377-b0eb-c6c9dcd809cc",
   "metadata": {},
   "outputs": [],
   "source": [
    "#group by Hospital for Insights"
   ]
  },
  {
   "cell_type": "code",
   "execution_count": 79,
   "id": "5eb3ebf7-e876-4c6e-a039-0cde983f8817",
   "metadata": {},
   "outputs": [
    {
     "data": {
      "text/html": [
       "<div>\n",
       "<style scoped>\n",
       "    .dataframe tbody tr th:only-of-type {\n",
       "        vertical-align: middle;\n",
       "    }\n",
       "\n",
       "    .dataframe tbody tr th {\n",
       "        vertical-align: top;\n",
       "    }\n",
       "\n",
       "    .dataframe thead th {\n",
       "        text-align: right;\n",
       "    }\n",
       "</style>\n",
       "<table border=\"1\" class=\"dataframe\">\n",
       "  <thead>\n",
       "    <tr style=\"text-align: right;\">\n",
       "      <th></th>\n",
       "      <th>AvgWaitTimeMins</th>\n",
       "      <th>ReadmissionRate</th>\n",
       "      <th>TreatmentSuccessRate</th>\n",
       "      <th>BedOccupancyRate</th>\n",
       "      <th>AvgStayDays</th>\n",
       "      <th>StaffUtilizationRate</th>\n",
       "    </tr>\n",
       "    <tr>\n",
       "      <th>HospitalName</th>\n",
       "      <th></th>\n",
       "      <th></th>\n",
       "      <th></th>\n",
       "      <th></th>\n",
       "      <th></th>\n",
       "      <th></th>\n",
       "    </tr>\n",
       "  </thead>\n",
       "  <tbody>\n",
       "    <tr>\n",
       "      <th>CurePoint</th>\n",
       "      <td>43.711818</td>\n",
       "      <td>0.182545</td>\n",
       "      <td>0.855727</td>\n",
       "      <td>0.741545</td>\n",
       "      <td>4.556364</td>\n",
       "      <td>0.791364</td>\n",
       "    </tr>\n",
       "    <tr>\n",
       "      <th>HealthFirst</th>\n",
       "      <td>44.980000</td>\n",
       "      <td>0.178588</td>\n",
       "      <td>0.834235</td>\n",
       "      <td>0.756941</td>\n",
       "      <td>4.636471</td>\n",
       "      <td>0.777059</td>\n",
       "    </tr>\n",
       "    <tr>\n",
       "      <th>LifeLine</th>\n",
       "      <td>46.048485</td>\n",
       "      <td>0.173333</td>\n",
       "      <td>0.834343</td>\n",
       "      <td>0.744141</td>\n",
       "      <td>4.405051</td>\n",
       "      <td>0.778283</td>\n",
       "    </tr>\n",
       "    <tr>\n",
       "      <th>CityCare</th>\n",
       "      <td>44.422936</td>\n",
       "      <td>0.172844</td>\n",
       "      <td>0.831468</td>\n",
       "      <td>0.755229</td>\n",
       "      <td>4.254128</td>\n",
       "      <td>0.791193</td>\n",
       "    </tr>\n",
       "    <tr>\n",
       "      <th>MediPlus</th>\n",
       "      <td>44.638144</td>\n",
       "      <td>0.171031</td>\n",
       "      <td>0.854536</td>\n",
       "      <td>0.758866</td>\n",
       "      <td>4.583505</td>\n",
       "      <td>0.767216</td>\n",
       "    </tr>\n",
       "  </tbody>\n",
       "</table>\n",
       "</div>"
      ],
      "text/plain": [
       "              AvgWaitTimeMins  ReadmissionRate  TreatmentSuccessRate  \\\n",
       "HospitalName                                                           \n",
       "CurePoint           43.711818         0.182545              0.855727   \n",
       "HealthFirst         44.980000         0.178588              0.834235   \n",
       "LifeLine            46.048485         0.173333              0.834343   \n",
       "CityCare            44.422936         0.172844              0.831468   \n",
       "MediPlus            44.638144         0.171031              0.854536   \n",
       "\n",
       "              BedOccupancyRate  AvgStayDays  StaffUtilizationRate  \n",
       "HospitalName                                                       \n",
       "CurePoint             0.741545     4.556364              0.791364  \n",
       "HealthFirst           0.756941     4.636471              0.777059  \n",
       "LifeLine              0.744141     4.405051              0.778283  \n",
       "CityCare              0.755229     4.254128              0.791193  \n",
       "MediPlus              0.758866     4.583505              0.767216  "
      ]
     },
     "execution_count": 79,
     "metadata": {},
     "output_type": "execute_result"
    }
   ],
   "source": [
    "kpi_summary = hospital_df.groupby('HospitalName').mean()[[\n",
    "    'AvgWaitTimeMins', 'ReadmissionRate', 'TreatmentSuccessRate',\n",
    "    'BedOccupancyRate', 'AvgStayDays', 'StaffUtilizationRate'\n",
    "]]\n",
    "kpi_summary.sort_values('ReadmissionRate', ascending=False)\n",
    "\n",
    "#curepoint hospital has the highest readmissions\n",
    "#curepoint hospital has most sucessful hospital becuase it have lowwaitTime and high treatment succesrate"
   ]
  },
  {
   "cell_type": "code",
   "execution_count": 82,
   "id": "3e1ab0d4-bca2-4e41-96ce-7cd42e4fe31b",
   "metadata": {},
   "outputs": [
    {
     "data": {
      "application/vnd.plotly.v1+json": {
       "config": {
        "plotlyServerURL": "https://plot.ly"
       },
       "data": [
        {
         "hovertemplate": "CityCare=%{r}<br>Metric=%{theta}<extra></extra>",
         "legendgroup": "",
         "line": {
          "color": "#636efa",
          "dash": "solid"
         },
         "marker": {
          "symbol": "circle"
         },
         "mode": "lines",
         "name": "",
         "r": [
          44.42293577981652,
          0.1728440366972477,
          0.8314678899082568,
          0.7552293577981652,
          4.254128440366971,
          0.7911926605504588,
          44.42293577981652
         ],
         "showlegend": false,
         "subplot": "polar",
         "theta": [
          "AvgWaitTimeMins",
          "ReadmissionRate",
          "TreatmentSuccessRate",
          "BedOccupancyRate",
          "AvgStayDays",
          "StaffUtilizationRate",
          "AvgWaitTimeMins"
         ],
         "type": "scatterpolar"
        },
        {
         "name": "MediPlus",
         "r": [
          44.63814432989691,
          0.17103092783505155,
          0.854536082474227,
          0.7588659793814433,
          4.583505154639175,
          0.7672164948453608
         ],
         "theta": [
          "AvgWaitTimeMins",
          "ReadmissionRate",
          "TreatmentSuccessRate",
          "BedOccupancyRate",
          "AvgStayDays",
          "StaffUtilizationRate"
         ],
         "type": "scatterpolar"
        }
       ],
       "layout": {
        "autosize": true,
        "dragmode": "lasso",
        "legend": {
         "tracegroupgap": 0
        },
        "margin": {
         "t": 60
        },
        "polar": {
         "angularaxis": {
          "direction": "clockwise",
          "rotation": -177.3058039647022,
          "type": "category"
         },
         "domain": {
          "x": [
           0,
           1
          ],
          "y": [
           0,
           1
          ]
         },
         "radialaxis": {
          "autorange": true,
          "range": [
           0,
           46.213608247422684
          ],
          "type": "linear"
         }
        },
        "template": {
         "data": {
          "bar": [
           {
            "error_x": {
             "color": "#2a3f5f"
            },
            "error_y": {
             "color": "#2a3f5f"
            },
            "marker": {
             "line": {
              "color": "#E5ECF6",
              "width": 0.5
             },
             "pattern": {
              "fillmode": "overlay",
              "size": 10,
              "solidity": 0.2
             }
            },
            "type": "bar"
           }
          ],
          "barpolar": [
           {
            "marker": {
             "line": {
              "color": "#E5ECF6",
              "width": 0.5
             },
             "pattern": {
              "fillmode": "overlay",
              "size": 10,
              "solidity": 0.2
             }
            },
            "type": "barpolar"
           }
          ],
          "carpet": [
           {
            "aaxis": {
             "endlinecolor": "#2a3f5f",
             "gridcolor": "white",
             "linecolor": "white",
             "minorgridcolor": "white",
             "startlinecolor": "#2a3f5f"
            },
            "baxis": {
             "endlinecolor": "#2a3f5f",
             "gridcolor": "white",
             "linecolor": "white",
             "minorgridcolor": "white",
             "startlinecolor": "#2a3f5f"
            },
            "type": "carpet"
           }
          ],
          "choropleth": [
           {
            "colorbar": {
             "outlinewidth": 0,
             "ticks": ""
            },
            "type": "choropleth"
           }
          ],
          "contour": [
           {
            "colorbar": {
             "outlinewidth": 0,
             "ticks": ""
            },
            "colorscale": [
             [
              0,
              "#0d0887"
             ],
             [
              0.1111111111111111,
              "#46039f"
             ],
             [
              0.2222222222222222,
              "#7201a8"
             ],
             [
              0.3333333333333333,
              "#9c179e"
             ],
             [
              0.4444444444444444,
              "#bd3786"
             ],
             [
              0.5555555555555556,
              "#d8576b"
             ],
             [
              0.6666666666666666,
              "#ed7953"
             ],
             [
              0.7777777777777778,
              "#fb9f3a"
             ],
             [
              0.8888888888888888,
              "#fdca26"
             ],
             [
              1,
              "#f0f921"
             ]
            ],
            "type": "contour"
           }
          ],
          "contourcarpet": [
           {
            "colorbar": {
             "outlinewidth": 0,
             "ticks": ""
            },
            "type": "contourcarpet"
           }
          ],
          "heatmap": [
           {
            "colorbar": {
             "outlinewidth": 0,
             "ticks": ""
            },
            "colorscale": [
             [
              0,
              "#0d0887"
             ],
             [
              0.1111111111111111,
              "#46039f"
             ],
             [
              0.2222222222222222,
              "#7201a8"
             ],
             [
              0.3333333333333333,
              "#9c179e"
             ],
             [
              0.4444444444444444,
              "#bd3786"
             ],
             [
              0.5555555555555556,
              "#d8576b"
             ],
             [
              0.6666666666666666,
              "#ed7953"
             ],
             [
              0.7777777777777778,
              "#fb9f3a"
             ],
             [
              0.8888888888888888,
              "#fdca26"
             ],
             [
              1,
              "#f0f921"
             ]
            ],
            "type": "heatmap"
           }
          ],
          "heatmapgl": [
           {
            "colorbar": {
             "outlinewidth": 0,
             "ticks": ""
            },
            "colorscale": [
             [
              0,
              "#0d0887"
             ],
             [
              0.1111111111111111,
              "#46039f"
             ],
             [
              0.2222222222222222,
              "#7201a8"
             ],
             [
              0.3333333333333333,
              "#9c179e"
             ],
             [
              0.4444444444444444,
              "#bd3786"
             ],
             [
              0.5555555555555556,
              "#d8576b"
             ],
             [
              0.6666666666666666,
              "#ed7953"
             ],
             [
              0.7777777777777778,
              "#fb9f3a"
             ],
             [
              0.8888888888888888,
              "#fdca26"
             ],
             [
              1,
              "#f0f921"
             ]
            ],
            "type": "heatmapgl"
           }
          ],
          "histogram": [
           {
            "marker": {
             "pattern": {
              "fillmode": "overlay",
              "size": 10,
              "solidity": 0.2
             }
            },
            "type": "histogram"
           }
          ],
          "histogram2d": [
           {
            "colorbar": {
             "outlinewidth": 0,
             "ticks": ""
            },
            "colorscale": [
             [
              0,
              "#0d0887"
             ],
             [
              0.1111111111111111,
              "#46039f"
             ],
             [
              0.2222222222222222,
              "#7201a8"
             ],
             [
              0.3333333333333333,
              "#9c179e"
             ],
             [
              0.4444444444444444,
              "#bd3786"
             ],
             [
              0.5555555555555556,
              "#d8576b"
             ],
             [
              0.6666666666666666,
              "#ed7953"
             ],
             [
              0.7777777777777778,
              "#fb9f3a"
             ],
             [
              0.8888888888888888,
              "#fdca26"
             ],
             [
              1,
              "#f0f921"
             ]
            ],
            "type": "histogram2d"
           }
          ],
          "histogram2dcontour": [
           {
            "colorbar": {
             "outlinewidth": 0,
             "ticks": ""
            },
            "colorscale": [
             [
              0,
              "#0d0887"
             ],
             [
              0.1111111111111111,
              "#46039f"
             ],
             [
              0.2222222222222222,
              "#7201a8"
             ],
             [
              0.3333333333333333,
              "#9c179e"
             ],
             [
              0.4444444444444444,
              "#bd3786"
             ],
             [
              0.5555555555555556,
              "#d8576b"
             ],
             [
              0.6666666666666666,
              "#ed7953"
             ],
             [
              0.7777777777777778,
              "#fb9f3a"
             ],
             [
              0.8888888888888888,
              "#fdca26"
             ],
             [
              1,
              "#f0f921"
             ]
            ],
            "type": "histogram2dcontour"
           }
          ],
          "mesh3d": [
           {
            "colorbar": {
             "outlinewidth": 0,
             "ticks": ""
            },
            "type": "mesh3d"
           }
          ],
          "parcoords": [
           {
            "line": {
             "colorbar": {
              "outlinewidth": 0,
              "ticks": ""
             }
            },
            "type": "parcoords"
           }
          ],
          "pie": [
           {
            "automargin": true,
            "type": "pie"
           }
          ],
          "scatter": [
           {
            "fillpattern": {
             "fillmode": "overlay",
             "size": 10,
             "solidity": 0.2
            },
            "type": "scatter"
           }
          ],
          "scatter3d": [
           {
            "line": {
             "colorbar": {
              "outlinewidth": 0,
              "ticks": ""
             }
            },
            "marker": {
             "colorbar": {
              "outlinewidth": 0,
              "ticks": ""
             }
            },
            "type": "scatter3d"
           }
          ],
          "scattercarpet": [
           {
            "marker": {
             "colorbar": {
              "outlinewidth": 0,
              "ticks": ""
             }
            },
            "type": "scattercarpet"
           }
          ],
          "scattergeo": [
           {
            "marker": {
             "colorbar": {
              "outlinewidth": 0,
              "ticks": ""
             }
            },
            "type": "scattergeo"
           }
          ],
          "scattergl": [
           {
            "marker": {
             "colorbar": {
              "outlinewidth": 0,
              "ticks": ""
             }
            },
            "type": "scattergl"
           }
          ],
          "scattermapbox": [
           {
            "marker": {
             "colorbar": {
              "outlinewidth": 0,
              "ticks": ""
             }
            },
            "type": "scattermapbox"
           }
          ],
          "scatterpolar": [
           {
            "marker": {
             "colorbar": {
              "outlinewidth": 0,
              "ticks": ""
             }
            },
            "type": "scatterpolar"
           }
          ],
          "scatterpolargl": [
           {
            "marker": {
             "colorbar": {
              "outlinewidth": 0,
              "ticks": ""
             }
            },
            "type": "scatterpolargl"
           }
          ],
          "scatterternary": [
           {
            "marker": {
             "colorbar": {
              "outlinewidth": 0,
              "ticks": ""
             }
            },
            "type": "scatterternary"
           }
          ],
          "surface": [
           {
            "colorbar": {
             "outlinewidth": 0,
             "ticks": ""
            },
            "colorscale": [
             [
              0,
              "#0d0887"
             ],
             [
              0.1111111111111111,
              "#46039f"
             ],
             [
              0.2222222222222222,
              "#7201a8"
             ],
             [
              0.3333333333333333,
              "#9c179e"
             ],
             [
              0.4444444444444444,
              "#bd3786"
             ],
             [
              0.5555555555555556,
              "#d8576b"
             ],
             [
              0.6666666666666666,
              "#ed7953"
             ],
             [
              0.7777777777777778,
              "#fb9f3a"
             ],
             [
              0.8888888888888888,
              "#fdca26"
             ],
             [
              1,
              "#f0f921"
             ]
            ],
            "type": "surface"
           }
          ],
          "table": [
           {
            "cells": {
             "fill": {
              "color": "#EBF0F8"
             },
             "line": {
              "color": "white"
             }
            },
            "header": {
             "fill": {
              "color": "#C8D4E3"
             },
             "line": {
              "color": "white"
             }
            },
            "type": "table"
           }
          ]
         },
         "layout": {
          "annotationdefaults": {
           "arrowcolor": "#2a3f5f",
           "arrowhead": 0,
           "arrowwidth": 1
          },
          "autotypenumbers": "strict",
          "coloraxis": {
           "colorbar": {
            "outlinewidth": 0,
            "ticks": ""
           }
          },
          "colorscale": {
           "diverging": [
            [
             0,
             "#8e0152"
            ],
            [
             0.1,
             "#c51b7d"
            ],
            [
             0.2,
             "#de77ae"
            ],
            [
             0.3,
             "#f1b6da"
            ],
            [
             0.4,
             "#fde0ef"
            ],
            [
             0.5,
             "#f7f7f7"
            ],
            [
             0.6,
             "#e6f5d0"
            ],
            [
             0.7,
             "#b8e186"
            ],
            [
             0.8,
             "#7fbc41"
            ],
            [
             0.9,
             "#4d9221"
            ],
            [
             1,
             "#276419"
            ]
           ],
           "sequential": [
            [
             0,
             "#0d0887"
            ],
            [
             0.1111111111111111,
             "#46039f"
            ],
            [
             0.2222222222222222,
             "#7201a8"
            ],
            [
             0.3333333333333333,
             "#9c179e"
            ],
            [
             0.4444444444444444,
             "#bd3786"
            ],
            [
             0.5555555555555556,
             "#d8576b"
            ],
            [
             0.6666666666666666,
             "#ed7953"
            ],
            [
             0.7777777777777778,
             "#fb9f3a"
            ],
            [
             0.8888888888888888,
             "#fdca26"
            ],
            [
             1,
             "#f0f921"
            ]
           ],
           "sequentialminus": [
            [
             0,
             "#0d0887"
            ],
            [
             0.1111111111111111,
             "#46039f"
            ],
            [
             0.2222222222222222,
             "#7201a8"
            ],
            [
             0.3333333333333333,
             "#9c179e"
            ],
            [
             0.4444444444444444,
             "#bd3786"
            ],
            [
             0.5555555555555556,
             "#d8576b"
            ],
            [
             0.6666666666666666,
             "#ed7953"
            ],
            [
             0.7777777777777778,
             "#fb9f3a"
            ],
            [
             0.8888888888888888,
             "#fdca26"
            ],
            [
             1,
             "#f0f921"
            ]
           ]
          },
          "colorway": [
           "#636efa",
           "#EF553B",
           "#00cc96",
           "#ab63fa",
           "#FFA15A",
           "#19d3f3",
           "#FF6692",
           "#B6E880",
           "#FF97FF",
           "#FECB52"
          ],
          "font": {
           "color": "#2a3f5f"
          },
          "geo": {
           "bgcolor": "white",
           "lakecolor": "white",
           "landcolor": "#E5ECF6",
           "showlakes": true,
           "showland": true,
           "subunitcolor": "white"
          },
          "hoverlabel": {
           "align": "left"
          },
          "hovermode": "closest",
          "mapbox": {
           "style": "light"
          },
          "paper_bgcolor": "white",
          "plot_bgcolor": "#E5ECF6",
          "polar": {
           "angularaxis": {
            "gridcolor": "white",
            "linecolor": "white",
            "ticks": ""
           },
           "bgcolor": "#E5ECF6",
           "radialaxis": {
            "gridcolor": "white",
            "linecolor": "white",
            "ticks": ""
           }
          },
          "scene": {
           "xaxis": {
            "backgroundcolor": "#E5ECF6",
            "gridcolor": "white",
            "gridwidth": 2,
            "linecolor": "white",
            "showbackground": true,
            "ticks": "",
            "zerolinecolor": "white"
           },
           "yaxis": {
            "backgroundcolor": "#E5ECF6",
            "gridcolor": "white",
            "gridwidth": 2,
            "linecolor": "white",
            "showbackground": true,
            "ticks": "",
            "zerolinecolor": "white"
           },
           "zaxis": {
            "backgroundcolor": "#E5ECF6",
            "gridcolor": "white",
            "gridwidth": 2,
            "linecolor": "white",
            "showbackground": true,
            "ticks": "",
            "zerolinecolor": "white"
           }
          },
          "shapedefaults": {
           "line": {
            "color": "#2a3f5f"
           }
          },
          "ternary": {
           "aaxis": {
            "gridcolor": "white",
            "linecolor": "white",
            "ticks": ""
           },
           "baxis": {
            "gridcolor": "white",
            "linecolor": "white",
            "ticks": ""
           },
           "bgcolor": "#E5ECF6",
           "caxis": {
            "gridcolor": "white",
            "linecolor": "white",
            "ticks": ""
           }
          },
          "title": {
           "x": 0.05
          },
          "xaxis": {
           "automargin": true,
           "gridcolor": "white",
           "linecolor": "white",
           "ticks": "",
           "title": {
            "standoff": 15
           },
           "zerolinecolor": "white",
           "zerolinewidth": 2
          },
          "yaxis": {
           "automargin": true,
           "gridcolor": "white",
           "linecolor": "white",
           "ticks": "",
           "title": {
            "standoff": 15
           },
           "zerolinecolor": "white",
           "zerolinewidth": 2
          }
         }
        },
        "title": {
         "text": "KPI Radar Chart Comparison"
        }
       }
      },
      "image/png": "[encoded data removed]",
      "text/html": [
       "<div>                            <div id=\"c84fd397-f163-4297-b7c4-27a3c9ef163b\" class=\"plotly-graph-div\" style=\"height:525px; width:100%;\"></div>            <script type=\"text/javascript\">                require([\"plotly\"], function(Plotly) {                    window.PLOTLYENV=window.PLOTLYENV || {};                                    if (document.getElementById(\"c84fd397-f163-4297-b7c4-27a3c9ef163b\")) {                    Plotly.newPlot(                        \"c84fd397-f163-4297-b7c4-27a3c9ef163b\",                        [{\"hovertemplate\":\"CityCare=%{r}\\u003cbr\\u003eMetric=%{theta}\\u003cextra\\u003e\\u003c\\u002fextra\\u003e\",\"legendgroup\":\"\",\"line\":{\"color\":\"#636efa\",\"dash\":\"solid\"},\"marker\":{\"symbol\":\"circle\"},\"mode\":\"lines\",\"name\":\"\",\"r\":[44.42293577981652,0.1728440366972477,0.8314678899082568,0.7552293577981652,4.254128440366971,0.7911926605504588,44.42293577981652],\"showlegend\":false,\"subplot\":\"polar\",\"theta\":[\"AvgWaitTimeMins\",\"ReadmissionRate\",\"TreatmentSuccessRate\",\"BedOccupancyRate\",\"AvgStayDays\",\"StaffUtilizationRate\",\"AvgWaitTimeMins\"],\"type\":\"scatterpolar\"},{\"name\":\"MediPlus\",\"r\":[44.63814432989691,0.17103092783505155,0.854536082474227,0.7588659793814433,4.583505154639175,0.7672164948453608],\"theta\":[\"AvgWaitTimeMins\",\"ReadmissionRate\",\"TreatmentSuccessRate\",\"BedOccupancyRate\",\"AvgStayDays\",\"StaffUtilizationRate\"],\"type\":\"scatterpolar\"}],                        {\"template\":{\"data\":{\"histogram2dcontour\":[{\"type\":\"histogram2dcontour\",\"colorbar\":{\"outlinewidth\":0,\"ticks\":\"\"},\"colorscale\":[[0.0,\"#0d0887\"],[0.1111111111111111,\"#46039f\"],[0.2222222222222222,\"#7201a8\"],[0.3333333333333333,\"#9c179e\"],[0.4444444444444444,\"#bd3786\"],[0.5555555555555556,\"#d8576b\"],[0.6666666666666666,\"#ed7953\"],[0.7777777777777778,\"#fb9f3a\"],[0.8888888888888888,\"#fdca26\"],[1.0,\"#f0f921\"]]}],\"choropleth\":[{\"type\":\"choropleth\",\"colorbar\":{\"outlinewidth\":0,\"ticks\":\"\"}}],\"histogram2d\":[{\"type\":\"histogram2d\",\"colorbar\":{\"outlinewidth\":0,\"ticks\":\"\"},\"colorscale\":[[0.0,\"#0d0887\"],[0.1111111111111111,\"#46039f\"],[0.2222222222222222,\"#7201a8\"],[0.3333333333333333,\"#9c179e\"],[0.4444444444444444,\"#bd3786\"],[0.5555555555555556,\"#d8576b\"],[0.6666666666666666,\"#ed7953\"],[0.7777777777777778,\"#fb9f3a\"],[0.8888888888888888,\"#fdca26\"],[1.0,\"#f0f921\"]]}],\"heatmap\":[{\"type\":\"heatmap\",\"colorbar\":{\"outlinewidth\":0,\"ticks\":\"\"},\"colorscale\":[[0.0,\"#0d0887\"],[0.1111111111111111,\"#46039f\"],[0.2222222222222222,\"#7201a8\"],[0.3333333333333333,\"#9c179e\"],[0.4444444444444444,\"#bd3786\"],[0.5555555555555556,\"#d8576b\"],[0.6666666666666666,\"#ed7953\"],[0.7777777777777778,\"#fb9f3a\"],[0.8888888888888888,\"#fdca26\"],[1.0,\"#f0f921\"]]}],\"heatmapgl\":[{\"type\":\"heatmapgl\",\"colorbar\":{\"outlinewidth\":0,\"ticks\":\"\"},\"colorscale\":[[0.0,\"#0d0887\"],[0.1111111111111111,\"#46039f\"],[0.2222222222222222,\"#7201a8\"],[0.3333333333333333,\"#9c179e\"],[0.4444444444444444,\"#bd3786\"],[0.5555555555555556,\"#d8576b\"],[0.6666666666666666,\"#ed7953\"],[0.7777777777777778,\"#fb9f3a\"],[0.8888888888888888,\"#fdca26\"],[1.0,\"#f0f921\"]]}],\"contourcarpet\":[{\"type\":\"contourcarpet\",\"colorbar\":{\"outlinewidth\":0,\"ticks\":\"\"}}],\"contour\":[{\"type\":\"contour\",\"colorbar\":{\"outlinewidth\":0,\"ticks\":\"\"},\"colorscale\":[[0.0,\"#0d0887\"],[0.1111111111111111,\"#46039f\"],[0.2222222222222222,\"#7201a8\"],[0.3333333333333333,\"#9c179e\"],[0.4444444444444444,\"#bd3786\"],[0.5555555555555556,\"#d8576b\"],[0.6666666666666666,\"#ed7953\"],[0.7777777777777778,\"#fb9f3a\"],[0.8888888888888888,\"#fdca26\"],[1.0,\"#f0f921\"]]}],\"surface\":[{\"type\":\"surface\",\"colorbar\":{\"outlinewidth\":0,\"ticks\":\"\"},\"colorscale\":[[0.0,\"#0d0887\"],[0.1111111111111111,\"#46039f\"],[0.2222222222222222,\"#7201a8\"],[0.3333333333333333,\"#9c179e\"],[0.4444444444444444,\"#bd3786\"],[0.5555555555555556,\"#d8576b\"],[0.6666666666666666,\"#ed7953\"],[0.7777777777777778,\"#fb9f3a\"],[0.8888888888888888,\"#fdca26\"],[1.0,\"#f0f921\"]]}],\"mesh3d\":[{\"type\":\"mesh3d\",\"colorbar\":{\"outlinewidth\":0,\"ticks\":\"\"}}],\"scatter\":[{\"fillpattern\":{\"fillmode\":\"overlay\",\"size\":10,\"solidity\":0.2},\"type\":\"scatter\"}],\"parcoords\":[{\"type\":\"parcoords\",\"line\":{\"colorbar\":{\"outlinewidth\":0,\"ticks\":\"\"}}}],\"scatterpolargl\":[{\"type\":\"scatterpolargl\",\"marker\":{\"colorbar\":{\"outlinewidth\":0,\"ticks\":\"\"}}}],\"bar\":[{\"error_x\":{\"color\":\"#2a3f5f\"},\"error_y\":{\"color\":\"#2a3f5f\"},\"marker\":{\"line\":{\"color\":\"#E5ECF6\",\"width\":0.5},\"pattern\":{\"fillmode\":\"overlay\",\"size\":10,\"solidity\":0.2}},\"type\":\"bar\"}],\"scattergeo\":[{\"type\":\"scattergeo\",\"marker\":{\"colorbar\":{\"outlinewidth\":0,\"ticks\":\"\"}}}],\"scatterpolar\":[{\"type\":\"scatterpolar\",\"marker\":{\"colorbar\":{\"outlinewidth\":0,\"ticks\":\"\"}}}],\"histogram\":[{\"marker\":{\"pattern\":{\"fillmode\":\"overlay\",\"size\":10,\"solidity\":0.2}},\"type\":\"histogram\"}],\"scattergl\":[{\"type\":\"scattergl\",\"marker\":{\"colorbar\":{\"outlinewidth\":0,\"ticks\":\"\"}}}],\"scatter3d\":[{\"type\":\"scatter3d\",\"line\":{\"colorbar\":{\"outlinewidth\":0,\"ticks\":\"\"}},\"marker\":{\"colorbar\":{\"outlinewidth\":0,\"ticks\":\"\"}}}],\"scattermapbox\":[{\"type\":\"scattermapbox\",\"marker\":{\"colorbar\":{\"outlinewidth\":0,\"ticks\":\"\"}}}],\"scatterternary\":[{\"type\":\"scatterternary\",\"marker\":{\"colorbar\":{\"outlinewidth\":0,\"ticks\":\"\"}}}],\"scattercarpet\":[{\"type\":\"scattercarpet\",\"marker\":{\"colorbar\":{\"outlinewidth\":0,\"ticks\":\"\"}}}],\"carpet\":[{\"aaxis\":{\"endlinecolor\":\"#2a3f5f\",\"gridcolor\":\"white\",\"linecolor\":\"white\",\"minorgridcolor\":\"white\",\"startlinecolor\":\"#2a3f5f\"},\"baxis\":{\"endlinecolor\":\"#2a3f5f\",\"gridcolor\":\"white\",\"linecolor\":\"white\",\"minorgridcolor\":\"white\",\"startlinecolor\":\"#2a3f5f\"},\"type\":\"carpet\"}],\"table\":[{\"cells\":{\"fill\":{\"color\":\"#EBF0F8\"},\"line\":{\"color\":\"white\"}},\"header\":{\"fill\":{\"color\":\"#C8D4E3\"},\"line\":{\"color\":\"white\"}},\"type\":\"table\"}],\"barpolar\":[{\"marker\":{\"line\":{\"color\":\"#E5ECF6\",\"width\":0.5},\"pattern\":{\"fillmode\":\"overlay\",\"size\":10,\"solidity\":0.2}},\"type\":\"barpolar\"}],\"pie\":[{\"automargin\":true,\"type\":\"pie\"}]},\"layout\":{\"autotypenumbers\":\"strict\",\"colorway\":[\"#636efa\",\"#EF553B\",\"#00cc96\",\"#ab63fa\",\"#FFA15A\",\"#19d3f3\",\"#FF6692\",\"#B6E880\",\"#FF97FF\",\"#FECB52\"],\"font\":{\"color\":\"#2a3f5f\"},\"hovermode\":\"closest\",\"hoverlabel\":{\"align\":\"left\"},\"paper_bgcolor\":\"white\",\"plot_bgcolor\":\"#E5ECF6\",\"polar\":{\"bgcolor\":\"#E5ECF6\",\"angularaxis\":{\"gridcolor\":\"white\",\"linecolor\":\"white\",\"ticks\":\"\"},\"radialaxis\":{\"gridcolor\":\"white\",\"linecolor\":\"white\",\"ticks\":\"\"}},\"ternary\":{\"bgcolor\":\"#E5ECF6\",\"aaxis\":{\"gridcolor\":\"white\",\"linecolor\":\"white\",\"ticks\":\"\"},\"baxis\":{\"gridcolor\":\"white\",\"linecolor\":\"white\",\"ticks\":\"\"},\"caxis\":{\"gridcolor\":\"white\",\"linecolor\":\"white\",\"ticks\":\"\"}},\"coloraxis\":{\"colorbar\":{\"outlinewidth\":0,\"ticks\":\"\"}},\"colorscale\":{\"sequential\":[[0.0,\"#0d0887\"],[0.1111111111111111,\"#46039f\"],[0.2222222222222222,\"#7201a8\"],[0.3333333333333333,\"#9c179e\"],[0.4444444444444444,\"#bd3786\"],[0.5555555555555556,\"#d8576b\"],[0.6666666666666666,\"#ed7953\"],[0.7777777777777778,\"#fb9f3a\"],[0.8888888888888888,\"#fdca26\"],[1.0,\"#f0f921\"]],\"sequentialminus\":[[0.0,\"#0d0887\"],[0.1111111111111111,\"#46039f\"],[0.2222222222222222,\"#7201a8\"],[0.3333333333333333,\"#9c179e\"],[0.4444444444444444,\"#bd3786\"],[0.5555555555555556,\"#d8576b\"],[0.6666666666666666,\"#ed7953\"],[0.7777777777777778,\"#fb9f3a\"],[0.8888888888888888,\"#fdca26\"],[1.0,\"#f0f921\"]],\"diverging\":[[0,\"#8e0152\"],[0.1,\"#c51b7d\"],[0.2,\"#de77ae\"],[0.3,\"#f1b6da\"],[0.4,\"#fde0ef\"],[0.5,\"#f7f7f7\"],[0.6,\"#e6f5d0\"],[0.7,\"#b8e186\"],[0.8,\"#7fbc41\"],[0.9,\"#4d9221\"],[1,\"#276419\"]]},\"xaxis\":{\"gridcolor\":\"white\",\"linecolor\":\"white\",\"ticks\":\"\",\"title\":{\"standoff\":15},\"zerolinecolor\":\"white\",\"automargin\":true,\"zerolinewidth\":2},\"yaxis\":{\"gridcolor\":\"white\",\"linecolor\":\"white\",\"ticks\":\"\",\"title\":{\"standoff\":15},\"zerolinecolor\":\"white\",\"automargin\":true,\"zerolinewidth\":2},\"scene\":{\"xaxis\":{\"backgroundcolor\":\"#E5ECF6\",\"gridcolor\":\"white\",\"linecolor\":\"white\",\"showbackground\":true,\"ticks\":\"\",\"zerolinecolor\":\"white\",\"gridwidth\":2},\"yaxis\":{\"backgroundcolor\":\"#E5ECF6\",\"gridcolor\":\"white\",\"linecolor\":\"white\",\"showbackground\":true,\"ticks\":\"\",\"zerolinecolor\":\"white\",\"gridwidth\":2},\"zaxis\":{\"backgroundcolor\":\"#E5ECF6\",\"gridcolor\":\"white\",\"linecolor\":\"white\",\"showbackground\":true,\"ticks\":\"\",\"zerolinecolor\":\"white\",\"gridwidth\":2}},\"shapedefaults\":{\"line\":{\"color\":\"#2a3f5f\"}},\"annotationdefaults\":{\"arrowcolor\":\"#2a3f5f\",\"arrowhead\":0,\"arrowwidth\":1},\"geo\":{\"bgcolor\":\"white\",\"landcolor\":\"#E5ECF6\",\"subunitcolor\":\"white\",\"showland\":true,\"showlakes\":true,\"lakecolor\":\"white\"},\"title\":{\"x\":0.05},\"mapbox\":{\"style\":\"light\"}}},\"polar\":{\"domain\":{\"x\":[0.0,1.0],\"y\":[0.0,1.0]},\"angularaxis\":{\"direction\":\"clockwise\",\"rotation\":90}},\"legend\":{\"tracegroupgap\":0},\"margin\":{\"t\":60},\"title\":{\"text\":\"KPI Radar Chart Comparison\"}},                        {\"responsive\": true}                    ).then(function(){\n",
       "                            \n",
       "var gd = document.getElementById('c84fd397-f163-4297-b7c4-27a3c9ef163b');\n",
       "var x = new MutationObserver(function (mutations, observer) {{\n",
       "        var display = window.getComputedStyle(gd).display;\n",
       "        if (!display || display === 'none') {{\n",
       "            console.log([gd, 'removed!']);\n",
       "            Plotly.purge(gd);\n",
       "            observer.disconnect();\n",
       "        }}\n",
       "}});\n",
       "\n",
       "// Listen for the removal of the full notebook cells\n",
       "var notebookContainer = gd.closest('#notebook-container');\n",
       "if (notebookContainer) {{\n",
       "    x.observe(notebookContainer, {childList: true});\n",
       "}}\n",
       "\n",
       "// Listen for the clearing of the current output cell\n",
       "var outputEl = gd.closest('.output');\n",
       "if (outputEl) {{\n",
       "    x.observe(outputEl, {childList: true});\n",
       "}}\n",
       "\n",
       "                        })                };                });            </script>        </div>"
      ]
     },
     "metadata": {},
     "output_type": "display_data"
    }
   ],
   "source": [
    "#KPI Ranking Dashboard \n",
    "import plotly.express as px\n",
    "\n",
    "sample = hospital_df[hospital_df['HospitalName'] == 'CityCare'].mean(numeric_only=True)\n",
    "sample2 = hospital_df[hospital_df['HospitalName'] == 'MediPlus'].mean(numeric_only=True)\n",
    "\n",
    "df_plot = pd.DataFrame({\n",
    "    'Metric': sample.index,\n",
    "    'CityCare': sample.values,\n",
    "    'MediPlus': sample2.values\n",
    "})\n",
    "df_plot = df_plot[df_plot['Metric'].isin([\n",
    "    'AvgWaitTimeMins', 'ReadmissionRate', 'TreatmentSuccessRate',\n",
    "    'BedOccupancyRate', 'AvgStayDays', 'StaffUtilizationRate'\n",
    "])]\n",
    "\n",
    "fig = px.line_polar(df_plot, r='CityCare', theta='Metric', line_close=True)\n",
    "fig.add_scatterpolar(r=df_plot['MediPlus'], theta=df_plot['Metric'], name='MediPlus')\n",
    "fig.update_layout(title='KPI Radar Chart Comparison')\n",
    "fig.show()"
   ]
  },
  {
   "cell_type": "code",
   "execution_count": 86,
   "id": "22617539-ee5b-4306-a294-1650a06d7d7b",
   "metadata": {},
   "outputs": [
    {
     "name": "stdout",
     "output_type": "stream",
     "text": [
      "HospitalName\n",
      "CurePoint      0.855727\n",
      "MediPlus       0.854536\n",
      "LifeLine       0.834343\n",
      "HealthFirst    0.834235\n",
      "CityCare       0.831468\n",
      "Name: TreatmentSuccessRate, dtype: float64\n"
     ]
    }
   ],
   "source": [
    "#Which hospital has the best treatment success rate?\n",
    "\n",
    "best_success = hospital_df.groupby('HospitalName')['TreatmentSuccessRate'].mean().sort_values(ascending=False)\n",
    "print(best_success)"
   ]
  },
  {
   "cell_type": "code",
   "execution_count": 92,
   "id": "da909c44-c7f2-47c0-9b60-b6bd83b8d910",
   "metadata": {},
   "outputs": [
    {
     "name": "stdout",
     "output_type": "stream",
     "text": [
      "HospitalName\n",
      "CurePoint      43.711818\n",
      "CityCare       44.422936\n",
      "MediPlus       44.638144\n",
      "HealthFirst    44.980000\n",
      "LifeLine       46.048485\n",
      "Name: AvgWaitTimeMins, dtype: float64\n"
     ]
    }
   ],
   "source": [
    "#Who has the shortest average wait times?\n",
    "\n",
    "shortest_wait = hospital_df.groupby('HospitalName')['AvgWaitTimeMins'].mean().sort_values()\n",
    "print(shortest_wait)"
   ]
  },
  {
   "cell_type": "code",
   "execution_count": 98,
   "id": "12f6a899-5a5d-4689-a0e6-53e0d96890a7",
   "metadata": {},
   "outputs": [
    {
     "name": "stdout",
     "output_type": "stream",
     "text": [
      "                 AvgStayDays  ReadmissionRate\n",
      "AvgStayDays         1.000000        -0.046723\n",
      "ReadmissionRate    -0.046723         1.000000\n"
     ]
    }
   ],
   "source": [
    "#Are longer stays linked to more readmissions?\n",
    "\n",
    "correlation = hospital_df[['AvgStayDays', 'ReadmissionRate']].corr()\n",
    "print(correlation)"
   ]
  },
  {
   "cell_type": "code",
   "execution_count": 102,
   "id": "23d73e4c-de1f-4ae2-8711-1735dd940460",
   "metadata": {},
   "outputs": [
    {
     "data": {
      "image/png": "[encoded data removed]",
      "text/plain": [
       "<Figure size 640x480 with 1 Axes>"
      ]
     },
     "metadata": {},
     "output_type": "display_data"
    }
   ],
   "source": [
    "sns.scatterplot(data=hospital_df, x='AvgStayDays', y='ReadmissionRate')\n",
    "plt.title(\"Stay Duration vs Readmission Rate\")\n",
    "plt.xlabel(\"Average Stay (Days)\")\n",
    "plt.ylabel(\"Readmission Rate\")\n",
    "plt.grid(True)\n",
    "plt.show()\n"
   ]
  },
  {
   "cell_type": "code",
   "execution_count": null,
   "id": "ecbe2484-29ed-4ae1-8aaf-a8be2ac94ff7",
   "metadata": {},
   "outputs": [],
   "source": []
  }
 ],
 "metadata": {
  "kernelspec": {
   "display_name": "Python 3 (ipykernel)",
   "language": "python",
   "name": "python3"
  },
  "language_info": {
   "codemirror_mode": {
    "name": "ipython",
    "version": 3
   },
   "file_extension": ".py",
   "mimetype": "text/x-python",
   "name": "python",
   "nbconvert_exporter": "python",
   "pygments_lexer": "ipython3",
   "version": "3.13.5"
  }
 },
 "nbformat": 4,
 "nbformat_minor": 5
}
